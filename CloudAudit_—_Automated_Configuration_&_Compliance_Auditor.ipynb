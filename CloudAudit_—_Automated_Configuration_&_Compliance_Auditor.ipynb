{
  "nbformat": 4,
  "nbformat_minor": 0,
  "metadata": {
    "colab": {
      "provenance": []
    },
    "kernelspec": {
      "name": "python3",
      "display_name": "Python 3"
    },
    "language_info": {
      "name": "python"
    }
  },
  "cells": [
    {
      "cell_type": "code",
      "execution_count": 3,
      "metadata": {
        "colab": {
          "base_uri": "https://localhost:8080/"
        },
        "id": "6yE-lwLn06lK",
        "outputId": "f51de48c-1334-42a2-f615-8e87d401125f"
      },
      "outputs": [
        {
          "output_type": "stream",
          "name": "stdout",
          "text": [
            "Audit Report: {'timestamp': '2025-10-19T10:00:01.005493', 'total_resources': 30, 'compliant': 4, 'non_compliant': 26, 'failures': [{'resource_id': 'res-001', 'issues': ['encryption_disabled', 'public_access_allowed']}, {'resource_id': 'res-002', 'issues': ['encryption_disabled', 'tls_version_too_low']}, {'resource_id': 'res-003', 'issues': ['encryption_disabled', 'tls_version_too_low']}, {'resource_id': 'res-004', 'issues': ['encryption_disabled', 'tls_version_too_low']}, {'resource_id': 'res-005', 'issues': ['tls_version_too_low', 'public_access_allowed']}, {'resource_id': 'res-006', 'issues': ['encryption_disabled', 'public_access_allowed']}, {'resource_id': 'res-007', 'issues': ['encryption_disabled']}, {'resource_id': 'res-010', 'issues': ['tls_version_too_low']}, {'resource_id': 'res-011', 'issues': ['tls_version_too_low', 'public_access_allowed']}, {'resource_id': 'res-013', 'issues': ['encryption_disabled', 'tls_version_too_low', 'public_access_allowed']}, {'resource_id': 'res-014', 'issues': ['encryption_disabled', 'public_access_allowed']}, {'resource_id': 'res-015', 'issues': ['public_access_allowed']}, {'resource_id': 'res-016', 'issues': ['public_access_allowed']}, {'resource_id': 'res-017', 'issues': ['encryption_disabled', 'tls_version_too_low', 'public_access_allowed']}, {'resource_id': 'res-018', 'issues': ['encryption_disabled', 'public_access_allowed']}, {'resource_id': 'res-019', 'issues': ['encryption_disabled', 'public_access_allowed']}, {'resource_id': 'res-020', 'issues': ['encryption_disabled', 'public_access_allowed']}, {'resource_id': 'res-021', 'issues': ['encryption_disabled', 'tls_version_too_low']}, {'resource_id': 'res-022', 'issues': ['tls_version_too_low']}, {'resource_id': 'res-023', 'issues': ['encryption_disabled', 'tls_version_too_low']}, {'resource_id': 'res-024', 'issues': ['encryption_disabled', 'tls_version_too_low']}, {'resource_id': 'res-025', 'issues': ['tls_version_too_low', 'public_access_allowed']}, {'resource_id': 'res-026', 'issues': ['encryption_disabled']}, {'resource_id': 'res-027', 'issues': ['tls_version_too_low', 'public_access_allowed']}, {'resource_id': 'res-029', 'issues': ['encryption_disabled', 'tls_version_too_low', 'public_access_allowed']}, {'resource_id': 'res-030', 'issues': ['tls_version_too_low']}]}\n"
          ]
        },
        {
          "output_type": "stream",
          "name": "stderr",
          "text": [
            "/tmp/ipython-input-309092641.py:56: DeprecationWarning: datetime.datetime.utcnow() is deprecated and scheduled for removal in a future version. Use timezone-aware objects to represent datetimes in UTC: datetime.datetime.now(datetime.UTC).\n",
            "  \"timestamp\": datetime.utcnow().isoformat(),\n"
          ]
        }
      ],
      "source": [
        "# ============================================================\n",
        "# CloudAudit — Automated Configuration & Compliance Auditor\n",
        "# ============================================================\n",
        "\n",
        "import os\n",
        "import json\n",
        "import time\n",
        "import random\n",
        "from datetime import datetime\n",
        "\n",
        "# Configuration\n",
        "CONFIG_FILE = \"data/configurations.json\"\n",
        "AUDIT_REPORT = \"data/audit_report.json\"\n",
        "\n",
        "RULES = {\n",
        "    \"enable_encryption\": True,\n",
        "    \"minimum_tls_version\": \"1.2\",\n",
        "    \"public_access_disabled\": True\n",
        "}\n",
        "\n",
        "# Ensure directories\n",
        "os.makedirs(os.path.dirname(CONFIG_FILE), exist_ok=True)\n",
        "os.makedirs(os.path.dirname(AUDIT_REPORT), exist_ok=True)\n",
        "\n",
        "# Generate dummy configurations if not exist\n",
        "if not os.path.exists(CONFIG_FILE):\n",
        "    resources = []\n",
        "    for i in range(1, 31):\n",
        "        resources.append({\n",
        "            \"resource_id\": f\"res-{i:03}\",\n",
        "            \"type\": random.choice([\"storage_bucket\",\"compute_instance\",\"database\"]),\n",
        "            \"encryption_enabled\": random.choice([True, False]),\n",
        "            \"tls_version\": random.choice([\"1.0\",\"1.1\",\"1.2\",\"1.3\"]),\n",
        "            \"public_access\": random.choice([True, False])\n",
        "        })\n",
        "    with open(CONFIG_FILE, \"w\", encoding=\"utf-8\") as f:\n",
        "        json.dump(resources, f, indent=2)\n",
        "\n",
        "def load_configs(path):\n",
        "    with open(path, \"r\", encoding=\"utf-8\") as f:\n",
        "        return json.load(f)\n",
        "\n",
        "def audit_resource(res):\n",
        "    findings = []\n",
        "    if RULES[\"enable_encryption\"] and not res.get(\"encryption_enabled\", False):\n",
        "        findings.append(\"encryption_disabled\")\n",
        "    if res.get(\"tls_version\", \"\") < RULES[\"minimum_tls_version\"]:\n",
        "        findings.append(\"tls_version_too_low\")\n",
        "    if RULES[\"public_access_disabled\"] and res.get(\"public_access\", False):\n",
        "        findings.append(\"public_access_allowed\")\n",
        "    return findings\n",
        "\n",
        "def run_audit(path):\n",
        "    configs = load_configs(path)\n",
        "    report = {\n",
        "        \"timestamp\": datetime.utcnow().isoformat(),\n",
        "        \"total_resources\": len(configs),\n",
        "        \"compliant\": 0,\n",
        "        \"non_compliant\": 0,\n",
        "        \"failures\": []\n",
        "    }\n",
        "    for res in configs:\n",
        "        findings = audit_resource(res)\n",
        "        if findings:\n",
        "            report[\"non_compliant\"] += 1\n",
        "            report[\"failures\"].append({\n",
        "                \"resource_id\": res[\"resource_id\"],\n",
        "                \"issues\": findings\n",
        "            })\n",
        "        else:\n",
        "            report[\"compliant\"] += 1\n",
        "    with open(AUDIT_REPORT, \"w\", encoding=\"utf-8\") as f:\n",
        "        json.dump(report, f, indent=2)\n",
        "    return report\n",
        "\n",
        "if __name__ == \"__main__\":\n",
        "    r = run_audit(CONFIG_FILE)\n",
        "    print(\"Audit Report:\", r)\n"
      ]
    }
  ]
}